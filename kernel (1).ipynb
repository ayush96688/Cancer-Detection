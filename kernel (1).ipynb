{
  "cells": [
    {
      "metadata": {
        "_uuid": "8f2839f25d086af736a60e9eeb907d3b93b6e0e5",
        "_cell_guid": "b1076dfc-b9ad-4769-8c92-a6c4dae69d19",
        "trusted": true
      },
      "cell_type": "code",
      "source": "#Importing Libraries\nimport numpy as np \nimport pandas as pd \nimport matplotlib.pyplot as plt\nimport seaborn as sns\nfrom sklearn.datasets import load_breast_cancer\n",
      "execution_count": null,
      "outputs": []
    },
    {
      "metadata": {
        "_cell_guid": "79c7e3d0-c299-4dcb-8224-4455121ee9b0",
        "_uuid": "d629ff2d2480ee46fbb7e2d37f6b5fab8052498a",
        "trusted": true
      },
      "cell_type": "code",
      "source": "cancer=load_breast_cancer()",
      "execution_count": null,
      "outputs": []
    },
    {
      "metadata": {
        "trusted": true,
        "_uuid": "d804ff6814dc3b40b304653b62fe57aabab0437e"
      },
      "cell_type": "code",
      "source": "cancer.keys()",
      "execution_count": null,
      "outputs": []
    },
    {
      "metadata": {
        "trusted": true,
        "_uuid": "60163f53c1834ba9dac2143115c8ee37b88b3a45"
      },
      "cell_type": "code",
      "source": "print(cancer['feature_names'])",
      "execution_count": null,
      "outputs": []
    },
    {
      "metadata": {
        "trusted": true,
        "_uuid": "569600bc2a112d5feaff0216e082c57e9c4037bf"
      },
      "cell_type": "code",
      "source": "cancer['data'].shape",
      "execution_count": null,
      "outputs": []
    },
    {
      "metadata": {
        "trusted": true,
        "_uuid": "162446733fb3ee56d8353d943e3a031f8e5c8551"
      },
      "cell_type": "code",
      "source": "df_cancer=pd.DataFrame(np.c_[cancer['data'],cancer['target']],columns=np.append(cancer['feature_names'],['target']))",
      "execution_count": null,
      "outputs": []
    },
    {
      "metadata": {
        "trusted": true,
        "_uuid": "d74b338cd2cf5a69d06dc7d273ea6bab3d997fa2"
      },
      "cell_type": "code",
      "source": "df_cancer.head()",
      "execution_count": null,
      "outputs": []
    },
    {
      "metadata": {
        "trusted": true,
        "_uuid": "d0e37592e1960b3de678c5dbf10b00acec7e857c"
      },
      "cell_type": "code",
      "source": "sns.countplot(df_cancer['target'])",
      "execution_count": null,
      "outputs": []
    },
    {
      "metadata": {
        "trusted": true,
        "_uuid": "ab6a153c2138140d2dea049fb214eba8c2d3c99d"
      },
      "cell_type": "code",
      "source": "#Seperating X and Y values\nX=df_cancer.values[:,:-1]\nY=df_cancer.values[:,-1]",
      "execution_count": null,
      "outputs": []
    },
    {
      "metadata": {
        "trusted": true,
        "_uuid": "261b5c2287df7b27bc0d417a13faf4ac4243f631"
      },
      "cell_type": "code",
      "source": "#Seperating Train and Test datasets\nfrom sklearn.model_selection import train_test_split\nX_train,X_test,Y_train,Y_test=train_test_split(X,Y,test_size=0.3,random_state=10)",
      "execution_count": null,
      "outputs": []
    },
    {
      "metadata": {
        "trusted": true,
        "_uuid": "c51ce05f36b773f574fdaf5260ed50237a81e258"
      },
      "cell_type": "code",
      "source": "#Performing feature scaling\nfrom sklearn.preprocessing import StandardScaler\nscaler=StandardScaler()\n\nscaler.fit(X_train)\nX_train=scaler.transform(X_train)\nX_test=scaler.transform(X_test)",
      "execution_count": null,
      "outputs": []
    },
    {
      "metadata": {
        "trusted": true,
        "_uuid": "681e9709262bf00e4211db51ad85348d715437da"
      },
      "cell_type": "code",
      "source": "#Model Building\nfrom sklearn import svm\nsvc_model=svm.SVC(kernel='rbf',C=10,gamma=0.1)\nsvc_model.fit(X_train,Y_train)\nY_pred=svc_model.predict(X_test)\nprint(Y_pred)",
      "execution_count": null,
      "outputs": []
    },
    {
      "metadata": {
        "trusted": true,
        "_uuid": "1645621b3d3ef21e5004391a80072198121f0cb1"
      },
      "cell_type": "code",
      "source": "#Checking confusion matrix and accuracy\nfrom sklearn.metrics import confusion_matrix,accuracy_score,classification_report\ncfm=confusion_matrix(Y_test,Y_pred)\nprint(cfm)\n\nprint('classification report:')\n\nprint(classification_report(Y_test,Y_pred))\nacc=accuracy_score(Y_test,Y_pred)\nprint(\"Accuracy of the model:\",acc)",
      "execution_count": null,
      "outputs": []
    },
    {
      "metadata": {
        "trusted": true,
        "_uuid": "fe16b4e6ad45e7ab6e7ef5200d9c806fbf594e93"
      },
      "cell_type": "code",
      "source": "#Heatmap of confusion matrix\nsns.heatmap(cfm,annot=True)",
      "execution_count": null,
      "outputs": []
    },
    {
      "metadata": {
        "trusted": true,
        "_uuid": "c869203347b58bb0750de89b17d4dc80585ff99c"
      },
      "cell_type": "code",
      "source": "",
      "execution_count": null,
      "outputs": []
    },
    {
      "metadata": {
        "trusted": true,
        "_uuid": "e622a4055da6155fb7fb30141bd858903667dc59"
      },
      "cell_type": "code",
      "source": "",
      "execution_count": null,
      "outputs": []
    }
  ],
  "metadata": {
    "kernelspec": {
      "display_name": "Python 3",
      "language": "python",
      "name": "python3"
    },
    "language_info": {
      "name": "python",
      "version": "3.6.6",
      "mimetype": "text/x-python",
      "codemirror_mode": {
        "name": "ipython",
        "version": 3
      },
      "pygments_lexer": "ipython3",
      "nbconvert_exporter": "python",
      "file_extension": ".py"
    }
  },
  "nbformat": 4,
  "nbformat_minor": 1
}